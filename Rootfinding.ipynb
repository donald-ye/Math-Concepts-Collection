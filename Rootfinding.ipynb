{
  "cells": [
    {
      "cell_type": "markdown",
      "metadata": {
        "id": "view-in-github",
        "colab_type": "text"
      },
      "source": [
        "<a href=\"https://colab.research.google.com/github/donald-ye/Math-Stuff/blob/main/Rootfinding.ipynb\" target=\"_parent\"><img src=\"https://colab.research.google.com/assets/colab-badge.svg\" alt=\"Open In Colab\"/></a>"
      ]
    },
    {
      "cell_type": "markdown",
      "metadata": {
        "id": "gzpu9f6eGG9u"
      },
      "source": [
        "# Project 1. Rootfinding\n",
        "\n",
        "The <b>Gompertz curve</b> or Gompertz function is a type of mathematical model named after Benjamin Gompertz (1779-1865). It is a function that describes growth as being slowest at the start and end of a given time period. Population biology is especially concerned with the Gompertz function. This function is especially useful in describing the rapid growth of a certain population of organisms (such as tumors, bacteria, etc.) while also considering the eventual horizontal asymptote once the carrying capacity is determined. The function was originally designed to describe human mortality, but since has been modified to be applied in biology, with regards to detailing populations.\n",
        "\n",
        "It is modeled as follows:\n",
        "\n",
        "$$N(t) = N_0 \\mathrm{exp}((\\ln (N_I/N_0)) (1-\\mathrm{exp}(-bt)) = N_0 e^{(\\ln \\frac{N_I}{N_0}) (1-e^{-bt})}$$\n",
        "\n",
        "where $t$ is the time, $N(t)$ is the population at time $t$, $N_0$ is the initial population, $N_I$ is the plateau population number (the maximum capacity in the given situation), $b$ is the initial growth rate, and $exp(x)$ is the exponential function $e^x$. The unit for $N(t)$, $N_I$, and $N_0$ are millions, and the unit for $t$ is hours.\n",
        "\n",
        "In this project, we are going to write computer programs that determine the amount of time that it takes for $N(t)$ to rise from the initial population $N_0 = 3\\cdot 10^{-5}$ to $1$. We use $N_I = 10^3$ and $b = 0.12$.\n",
        "\n",
        "Note that the solution of $N(t) = 1$ is equivalent to $N(t) - 1 = 0$, so this is a root-finding problem.\n"
      ]
    },
    {
      "cell_type": "markdown",
      "metadata": {
        "id": "ccCd5a9VGG9w"
      },
      "source": [
        "#### 1. (20 pts) Create a Python function **bisection(b)** that finds the root of $N(t) - 1 = 0$ by the bisection method. The initial interval is $[0, b]$.\n",
        "\n",
        "<ul>\n",
        "    <li>Use an error bound $10^{-6}$.</li>\n",
        "    <li>Allow at most 1000 iterations.</li>\n",
        "    <li>For each step, print the left endpoint $a_n$, the right endpoint $b_n$, and the approximation (= midpoint) $p_n$. </li>\n",
        "</ul>"
      ]
    },
    {
      "cell_type": "code",
      "execution_count": null,
      "metadata": {
        "id": "SdQNe9phGG9x",
        "colab": {
          "base_uri": "https://localhost:8080/",
          "height": 1000
        },
        "outputId": "6528a444-38ae-48a7-8212-48e3d1a9b145"
      },
      "outputs": [
        {
          "output_type": "stream",
          "name": "stdout",
          "text": [
            "a_1 = 0, f(a_1) = -0.99997\n",
            "p_1 = 50.0, f(p_1) = 956.9716303262669\n",
            "b_1 = 100, f(b_1) = 998.893575196533\n",
            "\n",
            "a_2 = 0, f(a_2) = -0.99997\n",
            "p_2 = 25.0, f(p_2) = 421.14137615905946\n",
            "b_2 = 50.0, f(b_2) = 956.9716303262669\n",
            "\n",
            "a_3 = 0, f(a_3) = -0.99997\n",
            "p_3 = 12.5, f(p_3) = 19.961331232826314\n",
            "b_3 = 25.0, f(b_3) = 421.14137615905946\n",
            "\n",
            "a_4 = 0, f(a_4) = -0.99997\n",
            "p_4 = 6.25, f(p_4) = -0.720460167628622\n",
            "b_4 = 12.5, f(b_4) = 19.961331232826314\n",
            "\n",
            "a_5 = 6.25, f(a_5) = -0.720460167628622\n",
            "p_5 = 9.375, f(p_5) = 2.6114271088021828\n",
            "b_5 = 12.5, f(b_5) = 19.961331232826314\n",
            "\n",
            "a_6 = 6.25, f(a_6) = -0.720460167628622\n",
            "p_6 = 7.8125, f(p_6) = 0.13239607279438115\n",
            "b_6 = 9.375, f(b_6) = 2.6114271088021828\n",
            "\n",
            "a_7 = 6.25, f(a_7) = -0.720460167628622\n",
            "p_7 = 7.03125, f(p_7) = -0.41863327697580843\n",
            "b_7 = 7.8125, f(b_7) = 0.13239607279438115\n",
            "\n",
            "a_8 = 7.03125, f(a_8) = -0.41863327697580843\n",
            "p_8 = 7.421875, f(p_8) = -0.18225709707555915\n",
            "b_8 = 7.8125, f(b_8) = 0.13239607279438115\n",
            "\n",
            "a_9 = 7.421875, f(a_9) = -0.18225709707555915\n",
            "p_9 = 7.6171875, f(p_9) = -0.03586924038079908\n",
            "b_9 = 7.8125, f(b_9) = 0.13239607279438115\n",
            "\n",
            "a_10 = 7.6171875, f(a_10) = -0.03586924038079908\n",
            "p_10 = 7.71484375, f(p_10) = 0.045374300955215\n",
            "b_10 = 7.8125, f(b_10) = 0.13239607279438115\n",
            "\n",
            "a_11 = 7.6171875, f(a_11) = -0.03586924038079908\n",
            "p_11 = 7.666015625, f(p_11) = 0.004050016276528234\n",
            "b_11 = 7.71484375, f(b_11) = 0.045374300955215\n",
            "\n",
            "a_12 = 7.6171875, f(a_12) = -0.03586924038079908\n",
            "p_12 = 7.6416015625, f(p_12) = -0.016082810433078354\n",
            "b_12 = 7.666015625, f(b_12) = 0.004050016276528234\n",
            "\n",
            "a_13 = 7.6416015625, f(a_13) = -0.016082810433078354\n",
            "p_13 = 7.65380859375, f(p_13) = -0.006059998636797181\n",
            "b_13 = 7.666015625, f(b_13) = 0.004050016276528234\n",
            "\n",
            "a_14 = 7.65380859375, f(a_14) = -0.006059998636797181\n",
            "p_14 = 7.659912109375, f(p_14) = -0.0010159294726825863\n",
            "b_14 = 7.666015625, f(b_14) = 0.004050016276528234\n",
            "\n",
            "a_15 = 7.659912109375, f(a_15) = -0.0010159294726825863\n",
            "p_15 = 7.6629638671875, f(p_15) = 0.0015143040810690067\n",
            "b_15 = 7.666015625, f(b_15) = 0.004050016276528234\n",
            "\n",
            "a_16 = 7.659912109375, f(a_16) = -0.0010159294726825863\n",
            "p_16 = 7.66143798828125, f(p_16) = 0.00024850306788448684\n",
            "b_16 = 7.6629638671875, f(b_16) = 0.0015143040810690067\n",
            "\n",
            "a_17 = 7.659912109375, f(a_17) = -0.0010159294726825863\n",
            "p_17 = 7.660675048828125, f(p_17) = -0.0003838841872763066\n",
            "b_17 = 7.66143798828125, f(b_17) = 0.00024850306788448684\n",
            "\n",
            "a_18 = 7.660675048828125, f(a_18) = -0.0003838841872763066\n",
            "p_18 = 7.6610565185546875, f(p_18) = -6.773331518894476e-05\n",
            "b_18 = 7.66143798828125, f(b_18) = 0.00024850306788448684\n",
            "\n",
            "a_19 = 7.6610565185546875, f(a_19) = -6.773331518894476e-05\n",
            "p_19 = 7.661247253417969, f(p_19) = 9.03741863143015e-05\n",
            "b_19 = 7.66143798828125, f(b_19) = 0.00024850306788448684\n",
            "\n",
            "a_20 = 7.6610565185546875, f(a_20) = -6.773331518894476e-05\n",
            "p_20 = 7.661151885986328, f(p_20) = 1.131776319929223e-05\n",
            "b_20 = 7.661247253417969, f(b_20) = 9.03741863143015e-05\n",
            "\n",
            "a_21 = 7.6610565185546875, f(a_21) = -6.773331518894476e-05\n",
            "p_21 = 7.661104202270508, f(p_21) = -2.820844406592471e-05\n",
            "b_21 = 7.661151885986328, f(b_21) = 1.131776319929223e-05\n",
            "\n",
            "a_22 = 7.661104202270508, f(a_22) = -2.820844406592471e-05\n",
            "p_22 = 7.661128044128418, f(p_22) = -8.445507451937395e-06\n",
            "b_22 = 7.661151885986328, f(b_22) = 1.131776319929223e-05\n",
            "\n",
            "a_23 = 7.661128044128418, f(a_23) = -8.445507451937395e-06\n",
            "p_23 = 7.661139965057373, f(p_23) = 1.4360861175788386e-06\n",
            "b_23 = 7.661151885986328, f(b_23) = 1.131776319929223e-05\n",
            "\n",
            "a_24 = 7.661128044128418, f(a_24) = -8.445507451937395e-06\n",
            "p_24 = 7.6611340045928955, f(p_24) = -3.504721105551667e-06\n",
            "b_24 = 7.661139965057373, f(b_24) = 1.4360861175788386e-06\n",
            "\n",
            "a_25 = 7.6611340045928955, f(a_25) = -3.504721105551667e-06\n",
            "p_25 = 7.661136984825134, f(p_25) = -1.034320102233366e-06\n",
            "b_25 = 7.661139965057373, f(b_25) = 1.4360861175788386e-06\n",
            "\n",
            "a_26 = 7.661136984825134, f(a_26) = -1.034320102233366e-06\n",
            "p_26 = 7.661138474941254, f(p_26) = 2.0088235408444177e-07\n",
            "b_26 = 7.661139965057373, f(b_26) = 1.4360861175788386e-06\n",
            "\n",
            "a_27 = 7.661136984825134, f(a_27) = -1.034320102233366e-06\n",
            "p_27 = 7.661137729883194, f(p_27) = -4.167190372772467e-07\n",
            "b_27 = 7.661138474941254, f(b_27) = 2.0088235408444177e-07\n",
            "\n"
          ]
        },
        {
          "output_type": "execute_result",
          "data": {
            "text/plain": [
              "\" I don't belive the b = 0.12 used to calculate N(t) and bisection(b) are equal.\\n If you graph the function N(t)-1 it is visible that the intersection\\n happens around 7.66. Therefore, you need to star with a b > 7.67\""
            ],
            "application/vnd.google.colaboratory.intrinsic+json": {
              "type": "string"
            }
          },
          "metadata": {},
          "execution_count": 2
        }
      ],
      "source": [
        "import numpy as np\n",
        "import math\n",
        "\n",
        "def N(t):\n",
        "  n_0 = 3*10**(-5)\n",
        "  n_i = 10**3\n",
        "  b = 0.12\n",
        "\n",
        "  if t == 0 : return (3*10**(-5))\n",
        "  else: return (n_0 * math.exp(math.log(n_i/n_0)*(1 - math.exp(-b*t))))\n",
        "\n",
        "\n",
        "# TEST -- N(2)\n",
        "\n",
        "# Attempt 2\n",
        "def bisection (b) :\n",
        "  # calc the min num of iterations required to be within error (round up)\n",
        "  n = math.ceil(math.log2((b)/10**(-6)))\n",
        "\n",
        "  # \"Allow at most 1000 iterations.\"\n",
        "  if n > 1000 :\n",
        "    print (\"Limit of iterations reached\")\n",
        "\n",
        "  # Setting up initial values\n",
        "  a_n = 0\n",
        "  b_n = b\n",
        "\n",
        "  # TEST -- print (n)\n",
        "\n",
        "  # Loop that performs and prints the operations\n",
        "  for i in range (1, (n+1)) :\n",
        "    # Calculating the values of p_n, f_a_n, f_p_n, f_p_n)\n",
        "    p_n = a_n + ((b_n - a_n)/2)\n",
        "    f_a_n = N(a_n) - 1\n",
        "    f_p_n = N(p_n) - 1\n",
        "    f_b_n = N(b_n) - 1\n",
        "\n",
        "    # Printing the left endpoint a_n, the right endpoint b_n, and p_n.\n",
        "    print (\"a_\" + str(i) + \" = \" + str(a_n) + \", f(a_\" + str(i) + \") = \" + str(f_a_n))\n",
        "    print (\"p_\" + str(i) + \" = \" + str(p_n) + \", f(p_\" + str(i) + \") = \" + str(f_p_n))\n",
        "    print (\"b_\" + str(i) + \" = \" + str(b_n) + \", f(b_\" + str(i) + \") = \" + str(f_b_n))\n",
        "    print ()\n",
        "\n",
        "\n",
        "    # Conditions that determine & assign the next interval [a_n, b_n]\n",
        "    if f_p_n < 0 : a_n = p_n\n",
        "    else : a_n = a_n\n",
        "\n",
        "    if f_p_n > 0 : b_n = p_n\n",
        "    else : b_n = b_n\n",
        "\n",
        "# TEST - For function to work, we must give our own choice of b\n",
        "bisection(100)\n",
        "\n",
        "''' I don't belive the b = 0.12 used to calculate N(t) and bisection(b) are equal.\n",
        " If you graph the function N(t)-1 it is visible that the intersection\n",
        " happens around 7.66. Therefore, you need to star with a b > 7.67'''\n",
        "\n",
        "\n"
      ]
    },
    {
      "cell_type": "markdown",
      "metadata": {
        "id": "DxrE1-XHGG9x"
      },
      "source": [
        "#### 2. (15 pts) Create a Python function **newton(x)** that finds the root of $N(t) - 1 = 0$ by Newton's method. The initial guess $p_0$ is $x$.\n",
        "\n",
        "<ul>\n",
        "    <li>Calculate the derivative $N'(t)$ manually and use it in the code.</li>\n",
        "    <li>Use an error bound $10^{-6}$. Note that the error size is estimated by $|p_{n+1} - p_n|$.</li>\n",
        "    <li>Allow at most 1000 iterations.</li>\n",
        "    <li>For each step, print $p_n$ and the estimation of the error $|p_n - p_{n-1}|$.</li>\n",
        "</ul>"
      ]
    },
    {
      "cell_type": "code",
      "execution_count": null,
      "metadata": {
        "id": "K3km8E9JGG9x",
        "colab": {
          "base_uri": "https://localhost:8080/"
        },
        "outputId": "5b335a3e-7de9-4b7f-9965-16be0f09fa50"
      },
      "outputs": [
        {
          "output_type": "stream",
          "name": "stdout",
          "text": [
            "p_0 = 10\n",
            "p_1 = 8.697343194373625, error = 1.3026568056263752\n",
            "p_2 = 7.940369131719575, error = 0.7569740626540495\n",
            "p_3 = 7.68640739108317, error = 0.253961740636405\n",
            "p_4 = 7.661362695514599, error = 0.02504469556857103\n",
            "p_5 = 7.661138250460028, error = 0.00022444505457119845\n",
            "p_6 = 7.661138232602114, error = 1.785791425845673e-08\n"
          ]
        }
      ],
      "source": [
        "import numpy as np\n",
        "import math\n",
        "\n",
        "def N(t):\n",
        "  n_0 = 3*10**(-5)\n",
        "  n_i = 10**3\n",
        "  b = 0.12\n",
        "\n",
        "  if t == 0 : return (3*10**(-5))\n",
        "  else: return (n_0 * math.exp(math.log(n_i/n_0)*(1 - math.exp(-b*t))))\n",
        "\n",
        "\n",
        "def N_prime(t):\n",
        "    n_0 = 3 * 10**(-5)\n",
        "    n_i = 10**3\n",
        "    b = 0.12\n",
        "    k = math.log(n_i / n_0)\n",
        "\n",
        "    if t == 0: return n_0 * b * k\n",
        "    else: return n_0 * b * k * math.exp(-b*t) * math.exp(k*(1 - math.exp(-b*t)))\n",
        "\n",
        "\n",
        "def newton(x) :\n",
        "  # Setting up initial values\n",
        "  p_n = x\n",
        "  p_ni = p_n - ((N(p_n) - 1) / (N_prime(p_n)))\n",
        "  error = abs(p_ni - p_n)\n",
        "  i = 1\n",
        "\n",
        "  print (\"p_0 = \" + str(p_n))\n",
        "\n",
        "  while error > 10**(-6) :\n",
        "    p_ni = p_n - ((N(p_n) - 1) / (N_prime(p_n)))\n",
        "    error = abs(p_ni - p_n)\n",
        "\n",
        "    # Printing p_n and the estimation of the error\n",
        "    print (\"p_\" + str(i) + \" = \" + str(p_ni) + \", error = \" + str(error))\n",
        "\n",
        "    # Assigns next values\n",
        "    p_n = p_ni\n",
        "    i = i + 1\n",
        "\n",
        "# TEST\n",
        "newton(10)\n",
        "\n"
      ]
    },
    {
      "cell_type": "markdown",
      "metadata": {
        "id": "MG06UIuKGG9x"
      },
      "source": [
        "#### 3. (15 pts) Create a Python function **secant(x0, x1)** that finds the root of $N(t) - 1 = 0$ by secant method. $p_0 = x0$ and $p_1 = x1$.\n",
        "\n",
        "<ul>\n",
        "    <li>Use an error bound $10^{-6}$. You may estimate the error size by $|p_{n} - p_{n-1}|$.</li>\n",
        "    <li>Allow at most 1000 iterations.</li>\n",
        "    <li>For each step, print $p_n$ and the estimation of an error $|p_n - p_{n-1}|$.</li>\n",
        "</ul>"
      ]
    },
    {
      "cell_type": "code",
      "execution_count": null,
      "metadata": {
        "id": "d7oVWAf3GG9y",
        "colab": {
          "base_uri": "https://localhost:8080/"
        },
        "outputId": "f067cd13-78cf-4cda-8ee9-b20a0e4f81bd"
      },
      "outputs": [
        {
          "output_type": "stream",
          "name": "stdout",
          "text": [
            "p_0 = 10\n",
            "p_1 = 20\n",
            "p_2 = 9.781447818535833, error = 10.218552181464167\n",
            "p_3 = 9.594218925797627, error = 0.1872288927382062\n",
            "p_4 = 8.49363265564917, error = 1.1005862701484563\n",
            "p_5 = 8.039607452026722, error = 0.45402520362244836\n",
            "p_6 = 7.753462579427903, error = 0.28614487259881916\n",
            "p_7 = 7.6726085798715875, error = 0.08085399955631534\n",
            "p_8 = 7.661507241332442, error = 0.011101338539145189\n",
            "p_9 = 7.661139730005451, error = 0.00036751132699119893\n",
            "p_10 = 7.6611382327979625, error = 1.4972074886543396e-06\n",
            "p_11 = 7.661138232602113, error = 1.9584955879281551e-10\n"
          ]
        }
      ],
      "source": [
        "import numpy as np\n",
        "import math\n",
        "\n",
        "def N(t):\n",
        "  n_0 = 3*10**(-5)\n",
        "  n_i = 10**3\n",
        "  b = 0.12\n",
        "\n",
        "  if t == 0 : return (3*10**(-5))\n",
        "  else: return (n_0 * math.exp(math.log(n_i/n_0)*(1 - math.exp(-b*t))))\n",
        "\n",
        "def secant(x0, x1) :\n",
        "  # Setting up initial values\n",
        "  p_n0 = x0\n",
        "  p_n1 = x1\n",
        "  p_ni = p_n1 - ((N(p_n1) - 1) * (p_n1 - p_n0)/ ((N(p_n1) - 1) - (N(p_n0) - 1)))\n",
        "  error = abs(p_ni - p_n1)\n",
        "  i = 2\n",
        "\n",
        "  print (\"p_0 = \" + str(p_n0))\n",
        "  print (\"p_1 = \" + str(p_n1))\n",
        "\n",
        "  while error > 10**(-6) :\n",
        "    p_ni = p_n1 - ((N(p_n1) - 1) * (p_n1 - p_n0)/ ((N(p_n1) - 1) - (N(p_n0) - 1)))\n",
        "    error = abs(p_ni - p_n1)\n",
        "\n",
        "    # Printing p_n and the estimation of the error\n",
        "    print (\"p_\" + str(i) + \" = \" + str(p_ni) + \", error = \" + str(error))\n",
        "\n",
        "    # Assigns next values\n",
        "    p_n0 = p_n1\n",
        "    p_n1 = p_ni\n",
        "    i = i + 1\n",
        "\n",
        "# TEST\n",
        "secant(10,20)\n"
      ]
    },
    {
      "cell_type": "code",
      "source": [],
      "metadata": {
        "id": "GcqXdiXfPlIG"
      },
      "execution_count": null,
      "outputs": []
    },
    {
      "cell_type": "markdown",
      "source": [
        "1. (20 pts) Yes, you are right. The parameter b is the right end point of ther interval, not b that we used in the definition of the Gompertz curve.\n",
        "2. (15 pts)\n",
        "3. (15 pts)\n",
        "\n",
        "(20 + 15 + 15 = 50) Good job!\n"
      ],
      "metadata": {
        "id": "0jbVBxORPnH_"
      }
    },
    {
      "cell_type": "code",
      "source": [],
      "metadata": {
        "id": "XjoMG7GOP0b5"
      },
      "execution_count": null,
      "outputs": []
    }
  ],
  "metadata": {
    "kernelspec": {
      "display_name": "Python 3",
      "language": "python",
      "name": "python3"
    },
    "language_info": {
      "codemirror_mode": {
        "name": "ipython",
        "version": 3
      },
      "file_extension": ".py",
      "mimetype": "text/x-python",
      "name": "python",
      "nbconvert_exporter": "python",
      "pygments_lexer": "ipython3",
      "version": "3.7.3"
    },
    "colab": {
      "provenance": [],
      "include_colab_link": true
    }
  },
  "nbformat": 4,
  "nbformat_minor": 0
}