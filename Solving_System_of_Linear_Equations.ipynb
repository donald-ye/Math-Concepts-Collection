{
  "nbformat": 4,
  "nbformat_minor": 0,
  "metadata": {
    "colab": {
      "provenance": [],
      "authorship_tag": "ABX9TyOiMZcmldvmHKomQ1okkVTR",
      "include_colab_link": true
    },
    "kernelspec": {
      "name": "python3",
      "display_name": "Python 3"
    },
    "language_info": {
      "name": "python"
    }
  },
  "cells": [
    {
      "cell_type": "markdown",
      "metadata": {
        "id": "view-in-github",
        "colab_type": "text"
      },
      "source": [
        "<a href=\"https://colab.research.google.com/github/donald-ye/Math-Stuff/blob/main/Solving_System_of_Linear_Equations.ipynb\" target=\"_parent\"><img src=\"https://colab.research.google.com/assets/colab-badge.svg\" alt=\"Open In Colab\"/></a>"
      ]
    },
    {
      "cell_type": "markdown",
      "source": [
        "# Team Project 3 - Solving a System of Linear Equations\n",
        "\n",
        "In this project, we compare the performance of three different methods of solving a system of linear equations. The lesson that you may get is that finding an efficient method is not an unnecessary complication.\n",
        "\n",
        "For this project, <b>DO NOT</b> use the 'solve' or 'inv' method in the linear algebra package! You have to create your own code for it."
      ],
      "metadata": {
        "id": "1w5RU311PK7Q"
      }
    },
    {
      "cell_type": "markdown",
      "source": [
        "1. (5 pts) Create a function **randmat(n)** which returns a random square matrix constructed as the following recipe.\n",
        "<ul>\n",
        "    <li>The size of the matrix is $n \\times n$.</li>\n",
        "    <li>Each off-diagonal entry ($a_{ij}$ where $i \\ne j$) is a random number in $[0, 1)$. A random number can be constructed by the random method (see <a href=\"https://docs.scipy.org/doc/numpy/reference/routines.random.html\">here</a>).</li>\n",
        "    <li>A diagonal entry $a_{ii}$ is a random number in $[n, n+1)$. (This condition guarantees that the matrix $(a_{ij})$ is strictly diagonally dominant, hence invertible.)</li>\n",
        "</ul>\n",
        "\n",
        "And create a function **randvec(n)** which returns an $n$-dimensional random vector whose entries are random numbers in $[0, 100)$."
      ],
      "metadata": {
        "id": "ty6iFROfPPVQ"
      }
    },
    {
      "cell_type": "code",
      "source": [
        "import numpy as np\n",
        "\n",
        "def randvec(n):\n",
        "  return np.random.uniform(0,100, size=(n,n))\n",
        "\n",
        "def randmat(n):\n",
        "  matrix = np.random.random((n,n))\n",
        "  np.fill_diagonal(matrix, np.random.uniform(n, n+1, size=n))\n",
        "  for i in range(n):\n",
        "    for j in range(n):\n",
        "        if i != j:\n",
        "          matrix[i][j] = np.random.random()\n",
        "\n",
        "  return matrix\n",
        "\n",
        "n = int(input(\"Enter the n-dimensional size of your matrix: \"))\n",
        "\n",
        "print(\"Random matrix: \\n\",randmat(n)) # Diagonals = (n, n+1), non-Diagonals = random[0,1)\n",
        "print(\"Random vector: \\n\",randvec(n))\n"
      ],
      "metadata": {
        "id": "0AED48NwPX_8",
        "colab": {
          "base_uri": "https://localhost:8080/"
        },
        "outputId": "31ff0afb-a386-4def-909f-50477d626fee"
      },
      "execution_count": 1,
      "outputs": [
        {
          "output_type": "stream",
          "name": "stdout",
          "text": [
            "Enter the n-dimensional size of your matrix: 3\n",
            "Random matrix: \n",
            " [[3.8604345  0.96462443 0.37677156]\n",
            " [0.92613082 3.9621313  0.09390755]\n",
            " [0.39545587 0.1938276  3.63920029]]\n",
            "Random vector: \n",
            " [[73.38432062 15.13751356 58.07652283]\n",
            " [32.53952245 67.52383197 43.46959309]\n",
            " [79.02926344 62.70858022 27.27785992]]\n"
          ]
        }
      ]
    },
    {
      "cell_type": "markdown",
      "source": [
        "2. (10 pts) Create a function **GaussElim(A, b)** which solves a system of linear equations $Ax = b$ by using Gaussian Elimination with the partial pivoting."
      ],
      "metadata": {
        "id": "3-1uNPeOPZip"
      }
    },
    {
      "cell_type": "code",
      "source": [
        "def GaussElim(A,b):\n",
        "  n = len(b)\n",
        "  A = A.astype(float)\n",
        "  b = b.astype(float)\n",
        "\n",
        "  aug_matrix = np.hstack((A, b.reshape(n, 1)))\n",
        "\n",
        "  for i in range(n):\n",
        "    max_row = np.argmax(np.abs(aug_matrix[i:, i])) + i\n",
        "\n",
        "    if i != max_row:\n",
        "      aug_matrix[[i, max_row]] = aug_matrix[[max_row, i]]\n",
        "\n",
        "    # Checks if pivot is zero, executes faster than (np.linalg.det(A) = 0)\n",
        "    if np.isclose(aug_matrix[i, i], 0):\n",
        "      print(\"Singular matrix detected. No unique solution exists.\")\n",
        "      return None\n",
        "\n",
        "    aug_matrix[i] = aug_matrix[i] / aug_matrix[i, i]\n",
        "    for j in range(i + 1, n):\n",
        "      aug_matrix[j] -= aug_matrix[j, i] * aug_matrix[i]\n",
        "\n",
        "  x = np.zeros(n)\n",
        "  for i in range(n - 1, -1, -1):\n",
        "    x[i] = aug_matrix[i, -1] - np.dot(aug_matrix[i, i+1:n], x[i+1:])\n",
        "\n",
        "  return x\n",
        "\n",
        "A = np.array([[2, 1, -1],\n",
        "              [3, 2, 2],\n",
        "              [1, 1, 1]], dtype=float)\n",
        "\n",
        "b = np.array([4, 10, 3], dtype=float)\n",
        "x = GaussElim(A,b)\n",
        "\n",
        "\n",
        "print(\"Solution of vector x:\", x)\n",
        "\n",
        "# # Singular Matrix test case\n",
        "\n",
        "# A = np.array([[2, 1, -1],\n",
        "#               [4, 2, -2],\n",
        "#               [1, 1, 1]], dtype=float)  # Second row is 2 * first row\n",
        "\n",
        "# b = np.array([4, 8, 3], dtype=float)\n",
        "# print(GaussElim(A, b))"
      ],
      "metadata": {
        "id": "pS_DYJTqPZz8",
        "colab": {
          "base_uri": "https://localhost:8080/"
        },
        "outputId": "04286ea7-492d-44f8-ed08-5006876423b3"
      },
      "execution_count": 11,
      "outputs": [
        {
          "output_type": "stream",
          "name": "stdout",
          "text": [
            "Solution of vector x: [ 4.  -2.5  1.5]\n",
            "Singular matrix detected. No unique solution exists.\n",
            "None\n"
          ]
        }
      ]
    },
    {
      "cell_type": "markdown",
      "source": [
        "3. (10 pts) Create a function **InvMat(A,b)** which solves a system of linear equations $Ax = b$ with the \"theoretically simplest method,\" that is, computing $x = A^{-1}b$. Compute the inverse matrix as the following:\n",
        "<ul>\n",
        "    <li>Make an augmented matrix $[A | I]$ where $I$ is the $n \\times n$ identity matrix.</li>\n",
        "    <li>Apply elementary row operations until the left half $A$ on $[A| I]$ becomes $I$, so it looks $[I | B]$.</li>\n",
        "    <li>Then the right half of the augmented matrix $B$ is $A^{-1}$.</li>\n",
        "</ul>"
      ],
      "metadata": {
        "id": "CDPA1TRvPfgr"
      }
    },
    {
      "cell_type": "code",
      "source": [
        "def InvMat(A,b):\n",
        "  n = len(A)\n",
        "  A = A.astype(float)\n",
        "  b = b.astype(float)\n",
        "\n",
        "  aug_matrix = np.hstack((A, np.identity(n)))\n",
        "\n",
        "  # Check if A is square\n",
        "  if A.shape[0] != A.shape[1]:\n",
        "      print(\"Non-Square matrix detected, matrix can not be inverted.\")\n",
        "      return None\n",
        "\n",
        "  # Check if A is invertible\n",
        "  if np.linalg.det(A) == 0:\n",
        "      print(\"Singular matrix detecetd, matrix can not be inverted.\") # singular matrix <=> det(A) = 0\n",
        "      return None\n",
        "\n",
        "  for i in range(n):\n",
        "    aug_matrix[i] = aug_matrix[i] / aug_matrix[i, i]\n",
        "    for j in range(i+1, n):\n",
        "        aug_matrix[j] -= aug_matrix[j, i] * aug_matrix[i]\n",
        "\n",
        "  for i in range(n-1, -1, -1):\n",
        "    for j in range(i-1, -1, -1):\n",
        "      aug_matrix[j] -= aug_matrix[j, i] * aug_matrix[i]\n",
        "\n",
        "  # Inverse and solution\n",
        "  A_inv = aug_matrix[:, n:]\n",
        "  x = np.dot(A_inv, b)\n",
        "  return x\n",
        "\n",
        "A = np.array([[2, 1, -1],\n",
        "              [3, 2, 2],\n",
        "              [1, 1, 1]], dtype=float)\n",
        "b = np.array([4, 10, 3], dtype=float)\n",
        "x = InvMat(A,b)\n",
        "\n",
        "print(\"In the format Ax=b, given known values of \\nA= \\n\", A ,\"and \\nb= \\n\",b ,\"\\nUtilizing the inverse matrix, we conclude that\\nx =\\n \", x)\n",
        "\n",
        "# # Non-zero matrix test case\n",
        "# A = np.array([\n",
        "#     [2, 1],\n",
        "#     [4, 2],\n",
        "#     [1, 3]\n",
        "# ], dtype=float)\n",
        "\n",
        "# b = np.array([5, 10, 6], dtype=float)\n",
        "# print(InvMat(A,b))\n",
        "\n",
        "# # Singular matrix test case\n",
        "# A = np.array([\n",
        "#     [1, 2, 3],\n",
        "#     [2, 4, 6],\n",
        "#     [1, 1, 1]\n",
        "# ], dtype=float)\n",
        "\n",
        "# b = np.array([6, 12, 3], dtype=float)\n",
        "# print(InvMat(A,b))"
      ],
      "metadata": {
        "id": "w52b3wdEPhb3",
        "colab": {
          "base_uri": "https://localhost:8080/"
        },
        "outputId": "fe1cd0a3-ee96-4208-9c13-349c7f4382e5"
      },
      "execution_count": 12,
      "outputs": [
        {
          "output_type": "stream",
          "name": "stdout",
          "text": [
            "In the format Ax=b, given known values of \n",
            "A= \n",
            " [[ 2.  1. -1.]\n",
            " [ 3.  2.  2.]\n",
            " [ 1.  1.  1.]] and \n",
            "b= \n",
            " [ 4. 10.  3.] \n",
            "Utilizing the inverse matrix, we conclude that\n",
            "x =\n",
            "  [ 4.  -2.5  1.5]\n"
          ]
        }
      ]
    },
    {
      "cell_type": "markdown",
      "source": [
        "4. (10 pts) Create a function **Jacobi(A, b, err)** which solves a system of linear equations $Ax = b$ by using Jacobi interation method. Set $x^{(0)} = \\vec{0}$. We stop the iteration when the estimation of the error $||x^{(k)} - x^{(k-1)}||_\\infty$ is less than err or $k = 1000$. (Here $x^{(k)}$ is the $k$-th output of the iteration)."
      ],
      "metadata": {
        "id": "P3HmHmYnPiMx"
      }
    },
    {
      "cell_type": "code",
      "source": [
        "def Jacobi(A, b, err):\n",
        "  n = len(A)\n",
        "  A = A.astype(float)\n",
        "  b = b.astype(float)\n",
        "\n",
        "  # Check if A is invertible\n",
        "  if np.linalg.det(A) == 0:\n",
        "      print(\"Singular matrix detected, Jacobi Iteration Method can not be applied.\") # singular matrix <=> det(A) = 0\n",
        "      return None\n",
        "\n",
        "  x_old = np.zeros(n)\n",
        "  x_new = np.zeros(n)\n",
        "\n",
        "  k = 1000\n",
        "  for i in range(k):\n",
        "    for j in range(n):\n",
        "      sum = 0\n",
        "      for k in range(n):\n",
        "        if j != k:\n",
        "          sum += A[j,k] * x_old[k]\n",
        "\n",
        "      x_new[j] = (b[j] - sum) / A[j,j] # update\n",
        "\n",
        "    #infinity norm computation\n",
        "    max_diff = 0\n",
        "    for i in range(n):\n",
        "      diff = abs(x_new[i] - x_old[i])\n",
        "      if diff > max_diff:\n",
        "        max_diff = diff\n",
        "\n",
        "    if max_diff < err:\n",
        "      return x_new\n",
        "\n",
        "    #copy\n",
        "    for i in range(n):\n",
        "      x_old[i] = x_new[i]\n",
        "\n",
        "  # break when > err || k =\n",
        "  print(\"Jacobi method did not converge within 1000 iterations.\")\n",
        "  return x_new\n",
        "\n",
        "A = np.array([[2, 1, -1],\n",
        "              [3, 2, 2],\n",
        "              [1, 1, 1]], dtype=float)\n",
        "b = np.array([4, 10, 3], dtype=float)\n",
        "err = 1e-7\n",
        "\n",
        "x = Jacobi(A, b, err)\n",
        "\n",
        "print(\"In the format Ax=b, given known values of \\nA= \\n\", A ,\"and \\nb= \\n\",b ,\"\\nUtilizing the Jacobi Iteration Method, we conclude that\\nx =\\n \", x)\n"
      ],
      "metadata": {
        "id": "7DMxKabXPmGz",
        "colab": {
          "base_uri": "https://localhost:8080/"
        },
        "outputId": "30cad10e-1ff7-4254-9e3d-aaa021a57e7f"
      },
      "execution_count": 45,
      "outputs": [
        {
          "output_type": "stream",
          "name": "stdout",
          "text": [
            "In the format Ax=b, given known values of \n",
            "A= \n",
            " [[ 2.  1. -1.]\n",
            " [ 3.  2.  2.]\n",
            " [ 1.  1.  1.]] and \n",
            "b= \n",
            " [ 4. 10.  3.] \n",
            "Utilizing the Jacobi Iteration Method, we conclude that\n",
            "x =\n",
            "  [-inf  inf  nan]\n"
          ]
        },
        {
          "output_type": "stream",
          "name": "stderr",
          "text": [
            "<ipython-input-45-f5e3269cea3d>:20: RuntimeWarning: overflow encountered in scalar add\n",
            "  sum += A[j,k] * x_old[k]\n",
            "<ipython-input-45-f5e3269cea3d>:27: RuntimeWarning: invalid value encountered in scalar subtract\n",
            "  diff = abs(x_new[i] - x_old[i])\n",
            "<ipython-input-45-f5e3269cea3d>:20: RuntimeWarning: invalid value encountered in scalar add\n",
            "  sum += A[j,k] * x_old[k]\n"
          ]
        }
      ]
    },
    {
      "cell_type": "markdown",
      "source": [
        "5. (10 pts) Create a function **GaussSeidel(A, b, err)** which solves a system of linear equations $Ax = b$ by using Gauss-Seidel interation method. Set $x^{(0)} = \\vec{0}$. We stop the iteration when the estimation of the error $||x^{(k)} - x^{(k-1)}||_\\infty$ is less than err or $k = 1000$. (Here $x^{(k)}$ is the $k$-th output of the iteration)."
      ],
      "metadata": {
        "id": "bNOQenI2PmvM"
      }
    },
    {
      "cell_type": "code",
      "source": [],
      "metadata": {
        "id": "Z7Yg_aojPp0B"
      },
      "execution_count": null,
      "outputs": []
    },
    {
      "cell_type": "markdown",
      "source": [
        "6. (5 pts) For $n = 100, 200, 300, \\cdots , 1000$, create a random $n \\times n$ matrix $A$ and a random $n$-dimensional vector $b$. Solve the system of linear equations $Ax = b$ by using **GaussElim(A, b)**, **InvMat(A, b)**, **Jacobi(A, b, err)**, and **GaussSeidel(A, b, err)**. Use $10^{-6}$ for the error tolerance. Record the excution time for each method. Plot the graph of the excution time for those three methods on the same plane.\n",
        "\n",
        "For the computation of the excution time, you may use the following method:"
      ],
      "metadata": {
        "id": "_t3bu4vbPqVX"
      }
    },
    {
      "cell_type": "code",
      "source": [
        "import time\n",
        "\n",
        "start = time.time()\n",
        "\"the code you want to test stays here\"\n",
        "end = time.time()\n",
        "\n",
        "print(end - start)"
      ],
      "metadata": {
        "id": "NLrpNWzrPs4I"
      },
      "execution_count": null,
      "outputs": []
    },
    {
      "cell_type": "code",
      "source": [],
      "metadata": {
        "id": "wWDzaCkvPuKJ"
      },
      "execution_count": null,
      "outputs": []
    }
  ]
}