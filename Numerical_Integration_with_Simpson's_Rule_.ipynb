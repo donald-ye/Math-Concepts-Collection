{
  "nbformat": 4,
  "nbformat_minor": 0,
  "metadata": {
    "colab": {
      "provenance": [],
      "authorship_tag": "ABX9TyM1GnPu42K6P+CwA6B/Piky",
      "include_colab_link": true
    },
    "kernelspec": {
      "name": "python3",
      "display_name": "Python 3"
    },
    "language_info": {
      "name": "python"
    }
  },
  "cells": [
    {
      "cell_type": "markdown",
      "metadata": {
        "id": "view-in-github",
        "colab_type": "text"
      },
      "source": [
        "<a href=\"https://colab.research.google.com/github/donald-ye/Math-Stuff/blob/main/Numerical_Integration_with_Simpson's_Rule_.ipynb\" target=\"_parent\"><img src=\"https://colab.research.google.com/assets/colab-badge.svg\" alt=\"Open In Colab\"/></a>"
      ]
    },
    {
      "cell_type": "code",
      "execution_count": 3,
      "metadata": {
        "colab": {
          "base_uri": "https://localhost:8080/"
        },
        "id": "urmjzIESiFMJ",
        "outputId": "37df449f-9e63-453e-b0c8-569d8a0ccfa4"
      },
      "outputs": [
        {
          "output_type": "stream",
          "name": "stdout",
          "text": [
            "Integral for k = 0: 2.5251543650080754\n",
            "Integral for k = 1: 1.221578859795587\n",
            "Integral for k = 2: 0.40254307128187267\n",
            "Integral for k = 3: 0.16610587647066155\n"
          ]
        }
      ],
      "source": [
        "import numpy as np\n",
        "\n",
        "# Function g(x)\n",
        "def g(x):\n",
        "    return 1 / (1 + x**2)\n",
        "\n",
        "# Integrand function\n",
        "def integrand(x, k):\n",
        "    return g(x) * np.cos(k * x)\n",
        "\n",
        "# Simpson's rule integration function\n",
        "def simpsons_rule(f, a, b, n, k):\n",
        "    h = (b - a) / n\n",
        "    x = np.linspace(a, b, n+1)\n",
        "    y = f(x, k)\n",
        "    integral = h/3 * (y[0] + 4*np.sum(y[1:n:2]) + 2*np.sum(y[2:n:2]) + y[n])\n",
        "    return integral\n",
        "\n",
        "# Define the limits of integration\n",
        "a = -np.pi\n",
        "b = np.pi\n",
        "\n",
        "# Number of intervals\n",
        "n = 20\n",
        "\n",
        "# Values of k\n",
        "ks = [0, 1, 2, 3]\n",
        "\n",
        "# Compute the integral for each value of k\n",
        "for k in ks:\n",
        "    result = simpsons_rule(integrand, a, b, n, k)\n",
        "    print(f' The integral for k = {k}: {result}')\n"
      ]
    }
  ]
}